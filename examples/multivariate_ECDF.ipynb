{
 "cells": [
  {
   "cell_type": "code",
   "execution_count": 2,
   "id": "bb9dcb3c",
   "metadata": {},
   "outputs": [],
   "source": [
    "import numpy as np\n",
    "import pdb\n",
    "\n",
    "# Suppose k,k',l are fixed\n",
    "\n",
    "# Example Usage\n",
    "X = np.random.uniform(size=1000)  # Example of scores(X_i, k) for i in D_l\n",
    "Y = np.random.uniform(size=1000)  # Example of scores(X_i, k') for i in D_l"
   ]
  },
  {
   "cell_type": "markdown",
   "id": "dee02eb1",
   "metadata": {},
   "source": [
    "## Naive approach"
   ]
  },
  {
   "cell_type": "code",
   "execution_count": 3,
   "id": "41660948",
   "metadata": {},
   "outputs": [
    {
     "name": "stdout",
     "output_type": "stream",
     "text": [
      "Empirical CDF results (naive):\n",
      "[[0.    0.    0.    ... 0.    0.    0.   ]\n",
      " [0.    0.    0.    ... 0.008 0.008 0.008]\n",
      " [0.    0.    0.    ... 0.02  0.021 0.021]\n",
      " ...\n",
      " [0.    0.01  0.021 ... 0.946 0.958 0.974]\n",
      " [0.    0.012 0.023 ... 0.958 0.97  0.986]\n",
      " [0.    0.012 0.023 ... 0.972 0.984 1.   ]]\n"
     ]
    }
   ],
   "source": [
    "def empirical_cdf_2d_naive(X, Y, x_query, y_query):\n",
    "    \"\"\"\n",
    "    Naive implementation of 2D empirical CDF.\n",
    "    \n",
    "    Parameters:\n",
    "    X (np.array): 1D array of observed values for the first random variable\n",
    "    Y (np.array): 1D array of observed values for the second random variable (same length)\n",
    "    x_query (float): The x-coordinate where the CDF is evaluated\n",
    "    y_query (float): The y-coordinate where the CDF is evaluated\n",
    "    \n",
    "    Returns:\n",
    "    float: The value of the empirical CDF at point (x_query, y_query)\n",
    "    \"\"\"\n",
    "    assert len(X) == len(Y)\n",
    "    count = 0\n",
    "    total_points = len(X)\n",
    "    \n",
    "    # Count how many points (X_i, Y_i) are <= (x_query, y_query)\n",
    "    for i in range(total_points):\n",
    "        if X[i] <= x_query and Y[i] <= y_query:\n",
    "            count += 1\n",
    "    \n",
    "    # Empirical CDF is the proportion of points satisfying the condition\n",
    "    return count / total_points\n",
    "\n",
    "# Example usage\n",
    "\n",
    "# Define the range of query points (e.g., 10 different points in x and y)\n",
    "grid_size = 100\n",
    "x_queries = np.linspace(0, 1, grid_size)  # 10 points between -2 and 2 for x\n",
    "y_queries = np.linspace(0, 1, grid_size)  # 10 points between -2 and 2 for y\n",
    "\n",
    "# Create an empty array to store the results\n",
    "results_naive = np.zeros((len(x_queries), len(y_queries)))\n",
    "\n",
    "# Evaluate the empirical CDF at each combination of x_query and y_query, and store the result\n",
    "for i, x in enumerate(x_queries):\n",
    "    for j, y in enumerate(y_queries):\n",
    "        results_naive[i, j] = empirical_cdf_2d_naive(X, Y, x, y)\n",
    "\n",
    "# Print the result array\n",
    "print(\"Empirical CDF results (naive):\")\n",
    "print(results_naive)"
   ]
  },
  {
   "cell_type": "markdown",
   "id": "29446ca0",
   "metadata": {},
   "source": [
    "## Less naive approach"
   ]
  },
  {
   "cell_type": "code",
   "execution_count": 4,
   "id": "71cec119",
   "metadata": {},
   "outputs": [],
   "source": [
    "import numpy as np\n",
    "\n",
    "class EmpiricalCDF2D:\n",
    "    def __init__(self, X, Y):\n",
    "        \"\"\"\n",
    "        Initialize the 2D empirical CDF by sorting the (X, Y) pairs together.\n",
    "\n",
    "        Parameters:\n",
    "        X (np.array): 1D array of observed values for the first random variable\n",
    "        Y (np.array): 1D array of observed values for the second random variable\n",
    "        \"\"\"\n",
    "        self.n = len(X)\n",
    "        \n",
    "        # Combine X and Y into pairs and sort by X first, then Y (lexicographically)\n",
    "        sorted_indices = np.lexsort((Y, X))\n",
    "        self.X_sorted = X[sorted_indices]\n",
    "        self.Y_sorted = Y[sorted_indices]\n",
    "\n",
    "    def query(self, x, y):\n",
    "        \"\"\"\n",
    "        Query the empirical CDF at point (x, y) using precomputed sorted data.\n",
    "\n",
    "        Parameters:\n",
    "        x (float): The x-coordinate where the CDF is evaluated\n",
    "        y (float): The y-coordinate where the CDF is evaluated\n",
    "        \n",
    "        Returns:\n",
    "        float: The value of the empirical CDF at point (x, y)\n",
    "        \"\"\"\n",
    "        # Binary search to find how many X values are <= x\n",
    "        idx_x = np.searchsorted(self.X_sorted, x, side='right')\n",
    "        \n",
    "        if idx_x == 0:\n",
    "            return 0.0  # If no points have X <= x, return 0\n",
    "        \n",
    "        # Find how many Y values (among the first idx_x points) are <= y\n",
    "        count_y = np.sum(self.Y_sorted[:idx_x] <= y)\n",
    "        \n",
    "        # Return the proportion of points satisfying the condition\n",
    "        return count_y / self.n"
   ]
  },
  {
   "cell_type": "code",
   "execution_count": 5,
   "id": "b9792106",
   "metadata": {},
   "outputs": [],
   "source": [
    "# Initialize the 2D empirical CDF with the observed data and grid\n",
    "ecdf_2d_grid = EmpiricalCDF2D(X, Y)"
   ]
  },
  {
   "cell_type": "code",
   "execution_count": 6,
   "id": "1f07a1fb",
   "metadata": {},
   "outputs": [
    {
     "name": "stdout",
     "output_type": "stream",
     "text": [
      "Empirical CDF results (new):\n",
      "[[0.    0.    0.    ... 0.    0.    0.   ]\n",
      " [0.    0.    0.    ... 0.008 0.008 0.008]\n",
      " [0.    0.    0.    ... 0.02  0.021 0.021]\n",
      " ...\n",
      " [0.    0.01  0.021 ... 0.946 0.958 0.974]\n",
      " [0.    0.012 0.023 ... 0.958 0.97  0.986]\n",
      " [0.    0.012 0.023 ... 0.972 0.984 1.   ]]\n",
      "Empirical CDF results (naive):\n",
      "[[0.    0.    0.    ... 0.    0.    0.   ]\n",
      " [0.    0.    0.    ... 0.008 0.008 0.008]\n",
      " [0.    0.    0.    ... 0.02  0.021 0.021]\n",
      " ...\n",
      " [0.    0.01  0.021 ... 0.946 0.958 0.974]\n",
      " [0.    0.012 0.023 ... 0.958 0.97  0.986]\n",
      " [0.    0.012 0.023 ... 0.972 0.984 1.   ]]\n",
      "Difference between new and naive:\n",
      "[[0. 0. 0. ... 0. 0. 0.]\n",
      " [0. 0. 0. ... 0. 0. 0.]\n",
      " [0. 0. 0. ... 0. 0. 0.]\n",
      " ...\n",
      " [0. 0. 0. ... 0. 0. 0.]\n",
      " [0. 0. 0. ... 0. 0. 0.]\n",
      " [0. 0. 0. ... 0. 0. 0.]]\n"
     ]
    }
   ],
   "source": [
    "# Create an empty array to store the results\n",
    "results_new = np.zeros((len(x_queries), len(y_queries)))\n",
    "\n",
    "# Evaluate the empirical CDF at each combination of x_query and y_query, and store the result\n",
    "for i, x in enumerate(x_queries):\n",
    "    for j, y in enumerate(y_queries):\n",
    "        results_new[i, j] = ecdf_2d_grid.query(x, y)\n",
    "\n",
    "# Print the result array\n",
    "print(\"Empirical CDF results (new):\")\n",
    "print(results_new)\n",
    "\n",
    "print(\"Empirical CDF results (naive):\")\n",
    "print(results_naive)\n",
    "\n",
    "print(\"Difference between new and naive:\")\n",
    "print(results_new-results_naive)"
   ]
  },
  {
   "cell_type": "markdown",
   "id": "ba5a5c18",
   "metadata": {},
   "source": [
    "## Third approach"
   ]
  },
  {
   "cell_type": "code",
   "execution_count": 7,
   "id": "b013e6d5",
   "metadata": {},
   "outputs": [
    {
     "name": "stdout",
     "output_type": "stream",
     "text": [
      "Grid query result: 0.0\n",
      "Non-grid query result: 0.025\n"
     ]
    }
   ],
   "source": [
    "class EmpiricalCDF2DGrid:\n",
    "    def __init__(self, X, Y):\n",
    "        \"\"\"\n",
    "        Initialize the 2D empirical CDF by sorting the (X, Y) pairs together.\n",
    "\n",
    "        Parameters:\n",
    "        X (np.array): 1D array of observed values for the first random variable\n",
    "        Y (np.array): 1D array of observed values for the second random variable\n",
    "        \"\"\"\n",
    "        self.n = len(X)\n",
    "        # Combine X and Y into pairs and sort by X first, then Y (lexicographically)\n",
    "        sorted_indices = np.lexsort((Y, X))\n",
    "        self.X_sorted = X[sorted_indices]\n",
    "        self.Y_sorted = Y[sorted_indices]\n",
    "        self.grid_evaluated = False\n",
    "\n",
    "    def evaluate_grid(self, x_grid, y_grid):\n",
    "        \"\"\"\n",
    "        Evaluate the empirical CDF at each point on the provided grid of (x, y) values.\n",
    "\n",
    "        Parameters:\n",
    "        x_grid (np.array): 1D array of x-coordinates where the CDF is evaluated\n",
    "        y_grid (np.array): 1D array of y-coordinates where the CDF is evaluated\n",
    "        \n",
    "        Returns:\n",
    "        np.array: A 2D array of ECDF values for each (x, y) combination on the grid\n",
    "        \"\"\"\n",
    "        # Store the grid for later querying\n",
    "        self.x_grid = x_grid\n",
    "        self.y_grid = y_grid\n",
    "\n",
    "        # Precompute positions of x_grid and y_grid in the sorted data\n",
    "        x_positions = np.searchsorted(self.X_sorted, x_grid, side='right')\n",
    "        cdf_grid = np.zeros((len(x_grid), len(y_grid)))\n",
    "\n",
    "        for i, x_pos in enumerate(x_positions):\n",
    "            if x_pos == 0:\n",
    "                cdf_grid[i, :] = 0.0  # If no points have X <= x_grid[i], the ECDF is 0\n",
    "            else:\n",
    "                # Precompute Y counts up to x_pos for the entire y_grid\n",
    "                y_counts = np.searchsorted(np.sort(self.Y_sorted[:x_pos]), y_grid, side='right')\n",
    "                cdf_grid[i, :] = y_counts / self.n\n",
    "\n",
    "        # Mark that the grid has been evaluated\n",
    "        self.grid_evaluated = True\n",
    "        self.cdf_grid = cdf_grid\n",
    "\n",
    "        return cdf_grid\n",
    "\n",
    "    def query(self, x, y):\n",
    "        \"\"\"\n",
    "        Query the empirical CDF at point (x, y). If the point is on the precomputed grid,\n",
    "        return the exact grid result; otherwise, calculate using the search method.\n",
    "\n",
    "        Parameters:\n",
    "        x (float): The x-coordinate where the CDF is evaluated\n",
    "        y (float): The y-coordinate where the CDF is evaluated\n",
    "        \n",
    "        Returns:\n",
    "        float: The value of the empirical CDF at point (x, y)\n",
    "        \"\"\"\n",
    "        # Check if the grid has been evaluated\n",
    "        if self.grid_evaluated:\n",
    "            # Try to find the exact match in the grid\n",
    "            x_idx = np.searchsorted(self.x_grid, x, side='left')\n",
    "            y_idx = np.searchsorted(self.y_grid, y, side='left')\n",
    "\n",
    "            # If the point belongs to the grid, return the grid value\n",
    "            if (x_idx < len(self.x_grid) and y_idx < len(self.y_grid) and\n",
    "                np.isclose(self.x_grid[x_idx], x) and np.isclose(self.y_grid[y_idx], y)):\n",
    "                return self.cdf_grid[x_idx, y_idx]\n",
    "\n",
    "        # If the point is not in the grid, compute it directly using search\n",
    "        idx_x = np.searchsorted(self.X_sorted, x, side='right')\n",
    "        if idx_x == 0:\n",
    "            return 0.0\n",
    "        count_y = np.sum(self.Y_sorted[:idx_x] <= y)\n",
    "        return count_y / self.n\n",
    "\n",
    "# Example Usage\n",
    "\n",
    "# Initialize the 2D empirical CDF with the observed data\n",
    "ecdf_2d_grid = EmpiricalCDF2DGrid(X, Y)\n",
    "\n",
    "# Define the grid where you want to evaluate the CDF\n",
    "x_grid = np.linspace(0, 1, 100)  # 100 points between -3 and 3 for x\n",
    "y_grid = np.linspace(0, 1, 100)  # 100 points between -3 and 3 for y\n",
    "\n",
    "# Evaluate the ECDF on the grid\n",
    "results_grid = ecdf_2d_grid.evaluate_grid(x_grid, y_grid)\n",
    "\n",
    "# Test the query function for a grid point and a non-grid point\n",
    "grid_query_result = ecdf_2d_grid.query(0.0, 0.0)  # On grid\n",
    "non_grid_query_result = ecdf_2d_grid.query(0.15, 0.15)  # Off grid\n",
    "\n",
    "# Print the result\n",
    "print(f\"Grid query result: {grid_query_result}\")\n",
    "print(f\"Non-grid query result: {non_grid_query_result}\")"
   ]
  },
  {
   "cell_type": "code",
   "execution_count": 9,
   "id": "cbe358ce",
   "metadata": {},
   "outputs": [
    {
     "name": "stdout",
     "output_type": "stream",
     "text": [
      "Empirical CDF results (new):\n",
      "[[0.    0.    0.    ... 0.    0.    0.   ]\n",
      " [0.    0.    0.    ... 0.008 0.008 0.008]\n",
      " [0.    0.    0.    ... 0.02  0.021 0.021]\n",
      " ...\n",
      " [0.    0.01  0.021 ... 0.946 0.958 0.974]\n",
      " [0.    0.012 0.023 ... 0.958 0.97  0.986]\n",
      " [0.    0.012 0.023 ... 0.972 0.984 1.   ]]\n",
      "Empirical CDF results (naive):\n",
      "[[0.    0.    0.    ... 0.    0.    0.   ]\n",
      " [0.    0.    0.    ... 0.008 0.008 0.008]\n",
      " [0.    0.    0.    ... 0.02  0.021 0.021]\n",
      " ...\n",
      " [0.    0.01  0.021 ... 0.946 0.958 0.974]\n",
      " [0.    0.012 0.023 ... 0.958 0.97  0.986]\n",
      " [0.    0.012 0.023 ... 0.972 0.984 1.   ]]\n",
      "Difference between new and naive:\n",
      "[[0. 0. 0. ... 0. 0. 0.]\n",
      " [0. 0. 0. ... 0. 0. 0.]\n",
      " [0. 0. 0. ... 0. 0. 0.]\n",
      " ...\n",
      " [0. 0. 0. ... 0. 0. 0.]\n",
      " [0. 0. 0. ... 0. 0. 0.]\n",
      " [0. 0. 0. ... 0. 0. 0.]]\n"
     ]
    }
   ],
   "source": [
    "# Create an empty array to store the results\n",
    "results_3 = np.zeros((len(x_queries), len(y_queries)))\n",
    "\n",
    "ecdf_2d_grid = EmpiricalCDF2DGrid(X, Y)\n",
    "\n",
    "# Evaluate the ECDF on the grid\n",
    "results_3 = ecdf_2d_grid.evaluate_grid(x_queries, y_queries)\n",
    "\n",
    "# Print the result array\n",
    "print(\"Empirical CDF results (new):\")\n",
    "print(results_3)\n",
    "\n",
    "print(\"Empirical CDF results (naive):\")\n",
    "print(results_naive)\n",
    "\n",
    "print(\"Difference between new and naive:\")\n",
    "print(results_3-results_naive)"
   ]
  },
  {
   "cell_type": "markdown",
   "id": "163ef551",
   "metadata": {},
   "source": [
    "## Method comparison"
   ]
  },
  {
   "cell_type": "code",
   "execution_count": 10,
   "id": "3bc78d0c",
   "metadata": {},
   "outputs": [],
   "source": [
    "import time\n",
    "\n",
    "# Function to compare both methods\n",
    "def compare_ecdf_methods(X, Y, x_queries, y_queries):\n",
    "    # Timing the naive approach\n",
    "    start_time_naive = time.time()\n",
    "    results_naive = np.zeros((len(x_queries), len(y_queries)))\n",
    "    for i, x in enumerate(x_queries):\n",
    "        for j, y in enumerate(y_queries):\n",
    "            results_naive[i, j] = empirical_cdf_2d_naive(X, Y, x, y)\n",
    "    end_time_naive = time.time()\n",
    "    naive_time = end_time_naive - start_time_naive\n",
    "\n",
    "    # Timing the second approach\n",
    "    ecdf_2d = EmpiricalCDF2D(X, Y)\n",
    "    start_time_2 = time.time()\n",
    "    results_2 = np.zeros((len(x_queries), len(y_queries)))\n",
    "    for i, x in enumerate(x_queries):\n",
    "        for j, y in enumerate(y_queries):\n",
    "            results_2[i, j] = ecdf_2d.query(x, y)\n",
    "    end_time_2 = time.time()\n",
    "    time_2 = end_time_2 - start_time_2\n",
    "    \n",
    "    # Timing the third approach\n",
    "    ecdf_2d_grid = EmpiricalCDF2DGrid(X, Y)\n",
    "    start_time_3 = time.time()\n",
    "    results_3 = ecdf_2d_grid.evaluate_grid(x_queries, y_queries)\n",
    "    end_time_3 = time.time()\n",
    "    time_3 = end_time_3 - start_time_3\n",
    "\n",
    "    # Check if the results are identical\n",
    "    identical_2 = np.allclose(results_naive, results_2)\n",
    "    identical_3 = np.allclose(results_naive, results_3)\n",
    "\n",
    "    # Print out the results\n",
    "    print(f\"Naive approach time: {naive_time:.6f} seconds\")\n",
    "    print(f\"Second approach time: {time_2:.6f} seconds\")\n",
    "    print(f\"Results identical: {identical_2}\")\n",
    "    print(f\"Third approach time: {time_3:.6f} seconds\")\n",
    "    print(f\"Results identical: {identical_3}\")\n",
    "\n",
    "    return results_naive, results_2, identical_2, results_3, identical_3"
   ]
  },
  {
   "cell_type": "code",
   "execution_count": 18,
   "id": "51a64706",
   "metadata": {},
   "outputs": [
    {
     "name": "stdout",
     "output_type": "stream",
     "text": [
      "Naive approach time: 3.227436 seconds\n",
      "Second approach time: 1.554780 seconds\n",
      "Results identical: True\n",
      "Third approach time: 0.005134 seconds\n",
      "Results identical: True\n"
     ]
    }
   ],
   "source": [
    "sample_size = 100\n",
    "grid_size = 400\n",
    "\n",
    "# Example Usage\n",
    "X = np.random.uniform(size=sample_size)  # Example of scores(X_i, k) for i in D_l\n",
    "Y = np.random.uniform(size=sample_size)  # Example of scores(X_i, k') for i in D_l\n",
    "\n",
    "# Define the range of query points (e.g., 10 different points in x and y)\n",
    "x_queries = np.linspace(0, 1, grid_size)  # 10 points between -2 and 2 for x\n",
    "y_queries = np.linspace(0, 1, grid_size)  # 10 points between -2 and 2 for y\n",
    "\n",
    "# Compare the methods and print the results\n",
    "_ = compare_ecdf_methods(X, Y, x_queries, y_queries)"
   ]
  },
  {
   "cell_type": "code",
   "execution_count": 19,
   "id": "62050a8b",
   "metadata": {},
   "outputs": [
    {
     "data": {
      "text/plain": [
       "628.6396571873782"
      ]
     },
     "execution_count": 19,
     "metadata": {},
     "output_type": "execute_result"
    }
   ],
   "source": [
    "3.227436 / 0.005134"
   ]
  },
  {
   "cell_type": "code",
   "execution_count": null,
   "id": "33caf8b1",
   "metadata": {},
   "outputs": [],
   "source": []
  }
 ],
 "metadata": {
  "kernelspec": {
   "display_name": "Python 3 (ipykernel)",
   "language": "python",
   "name": "python3"
  },
  "language_info": {
   "codemirror_mode": {
    "name": "ipython",
    "version": 3
   },
   "file_extension": ".py",
   "mimetype": "text/x-python",
   "name": "python",
   "nbconvert_exporter": "python",
   "pygments_lexer": "ipython3",
   "version": "3.10.12"
  }
 },
 "nbformat": 4,
 "nbformat_minor": 5
}
