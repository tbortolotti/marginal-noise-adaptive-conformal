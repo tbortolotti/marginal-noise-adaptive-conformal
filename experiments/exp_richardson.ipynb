{
 "cells": [
  {
   "cell_type": "code",
   "execution_count": 1,
   "id": "54794425",
   "metadata": {},
   "outputs": [],
   "source": [
    "import numpy as np\n",
    "import matplotlib.pyplot as plt\n",
    "from tqdm import tqdm\n",
    "import pandas as pd\n",
    "import seaborn as sns\n",
    "import pdb\n",
    "from functools import lru_cache\n",
    "import sys\n",
    "\n",
    "from scipy.stats import norm, beta\n",
    "from itertools import combinations"
   ]
  },
  {
   "cell_type": "code",
   "execution_count": 2,
   "id": "ceb6521d",
   "metadata": {},
   "outputs": [],
   "source": [
    "def construct_grid(num_steps, grid_type='uniform'):\n",
    "    \n",
    "    if grid_type == 'uniform':\n",
    "        grid = np.linspace(0, 1, num_steps)\n",
    "    elif grid_type == 'centered':\n",
    "        # Step 1: Create a linear grid\n",
    "        linear_grid = np.linspace(0, 1, np.ceil(num_steps/2).astype(int))\n",
    "        # Step 2: Apply a quadratic transformation\n",
    "        # This transformation makes the intervals smaller around 0.5\n",
    "        grid_1 = 0.5 * (np.cos(np.pi * (linear_grid - 0.5)))\n",
    "        grid_2 = 1-0.5 * (np.cos(np.pi * (linear_grid - 0.5)))\n",
    "        grid = np.concatenate([grid_1,grid_2])\n",
    "    else:\n",
    "        raise ValueError(\"Unsupported grid type. Choose 'uniform' or 'centered'.\")\n",
    "    \n",
    "    return grid"
   ]
  },
  {
   "attachments": {},
   "cell_type": "markdown",
   "id": "0f18a0ed",
   "metadata": {},
   "source": [
    "## Definition of the considered covariance functions\n",
    "\n",
    "### 1. Brownian Bridge"
   ]
  },
  {
   "cell_type": "code",
   "execution_count": 3,
   "id": "256d03b2",
   "metadata": {},
   "outputs": [],
   "source": [
    "# Brownian bridge covariance function\n",
    "def brownian_bridge_covariance(t1, t2, n_cal=None, scores=None, W=None, F_hat=None, joint_F_hat_vals=None):\n",
    "    return min(t1, t2) - (t1 * t2)"
   ]
  },
  {
   "attachments": {},
   "cell_type": "markdown",
   "id": "54d342ac",
   "metadata": {},
   "source": [
    "### 2. Covariance of the analyzed empirical process\n",
    "\n",
    "Covariance function:\n",
    "\n",
    "$$\\mathbb{E}[G_P f G_P g] = \\mathbb{E}[fg] - \\mathbb{E}[f] \\mathbb{E}[g],$$\n",
    "\n",
    "where $f(Z) = \\sum_k \\sum_l W_{kl} \\mathbb{I}[\\hat{s}(X,k) \\leq t_1, \\tilde{Y}=l]$ and $g(Z) = \\sum_k \\sum_l W_{kl} \\mathbb{I}[\\hat{s}(X,k) \\leq t_2, \\tilde{Y}=l]$.\n",
    "\n",
    "This of course implies that\n",
    "\n",
    "$$\\mathbb{E}[f] = \\sum_k \\sum_l W_{kl} \\tilde{\\rho}_l \\mathbb{P}[\\hat{s}(X,k) \\leq t_1 | \\tilde{Y}=l].$$\n",
    "\n",
    "The first term of the covariance function reads\n",
    "\n",
    "$$\\mathbb{E}[fg] = \\sum_k \\sum_{k'} \\sum_l W_{kl} W_{k'l} \\tilde{\\rho}_l \\mathbb{P}[\\hat{s}(X,k) \\leq t_1, \\hat{s}(X,k') \\leq t_2 | \\tilde{Y}=l].$$\n",
    "\n",
    "Estimate of the covariance function:\n",
    "\n",
    "$$\\hat{\\mathbb{E}}[f] = \\sum_k \\sum_l W_{kl} \\hat{\\rho}_l \\frac{1}{n_l} \\sum_{i \\in D_l} \\mathbb{I}[\\hat{s}(X_i,k) \\leq t_1],$$\n",
    "\n",
    "$$\\hat{\\mathbb{E}}[fg] = \\sum_k \\sum_{k'} \\sum_l W_{kl} W_{k'l} \\hat{\\rho}_l \\frac{1}{n_l} \\sum_{i \\in D_l} \\mathbb{I}[\\hat{s}(X_i,k) \\leq t_1, \\hat{s}(X_i,k') \\leq t_2].$$"
   ]
  },
  {
   "cell_type": "code",
   "execution_count": 4,
   "id": "a4418d59",
   "metadata": {},
   "outputs": [],
   "source": [
    "from statsmodels.distributions.empirical_distribution import ECDF\n",
    "\n",
    "def compute_F_hat_scores(scores):\n",
    "    K = max(key[0] for key in scores.keys()) + 1\n",
    "    F_hat = dict()\n",
    "    for l in range(K):\n",
    "        for k in range(K):\n",
    "            F_hat[(l,k)] = ECDF(scores[(l,k)])\n",
    "\n",
    "    return F_hat\n",
    "\n",
    "def compute_joint_F_hat(scores, t_values):\n",
    "    joint_F_hat_vals = dict()\n",
    "    K = max(key[0] for key in scores.keys()) + 1\n",
    "\n",
    "    for t1 in t_values:\n",
    "        for t2 in t_values:\n",
    "            if (t1, t2) not in joint_F_hat_vals:\n",
    "                joint_F_hat_vals[(t1, t2)] = dict()\n",
    "            for l in range(K):\n",
    "                for k in range(K):\n",
    "                    s_k_l = scores[(l,k)]\n",
    "                    for k_prime in range(K):\n",
    "                        s_k_prime_l = scores[(l,k_prime)]\n",
    "                        joint_F_hat_vals[(t1, t2)][(l, k, k_prime)] = np.mean((s_k_l <= t1) & (s_k_prime_l <= t2))\n",
    "\n",
    "    return joint_F_hat_vals\n",
    "\n",
    "# Covariance of the analyzed empirical process\n",
    "def cov_empirical_process(t1, t2, n_cal=None, scores=None, W=None, F_hat=None, joint_F_hat_vals=None):\n",
    "    K = max(key[0] for key in scores.keys()) + 1\n",
    "\n",
    "    # Evlauate the sum\n",
    "    total_sum = 0\n",
    "    exp1 = 0\n",
    "    exp2 = 0\n",
    "    for l in range(K):\n",
    "        n_l = len(scores[(l,0)])\n",
    "        for k in range(K):\n",
    "            exp1 += W[k,l] * n_l/n_cal * F_hat[(l,k)](t1)\n",
    "            exp2 += W[k,l] * n_l/n_cal * F_hat[(l,k)](t2)\n",
    "            for k_prime in range(K):\n",
    "                # Joint ecdf\n",
    "                joint_F_hat = joint_F_hat_vals[(t1, t2)][(l, k, k_prime)]\n",
    "\n",
    "                # Update sum\n",
    "                total_sum += W[k,l] * W[k_prime,l] * n_l/n_cal * joint_F_hat            \n",
    "\n",
    "    cov = total_sum - exp1 * exp2\n",
    "    return cov\n"
   ]
  },
  {
   "cell_type": "code",
   "execution_count": 5,
   "id": "2806e47d",
   "metadata": {},
   "outputs": [],
   "source": [
    "# Function to generate samples from a Gaussian process\n",
    "def simulate_gaussian_process(cov_function, grid, num_samples=1000, n_cal=None, scores=None, W=None, F_hat=None, joint_F_hat_vals=None):\n",
    "    # Compute the covariance matrix\n",
    "    n = len(grid)\n",
    "    Sigma = np.zeros((n, n))\n",
    "\n",
    "    for i in range(n):\n",
    "        for j in range(n):\n",
    "            Sigma[i, j] = cov_function(grid[i], grid[j], n_cal, scores, W, F_hat, joint_F_hat_vals)\n",
    "    \n",
    "    # Add a small value to the diagonal for numerical stability\n",
    "    Sigma += 1e-6 * np.eye(n)\n",
    "    \n",
    "    # Mean vector\n",
    "    mu = np.zeros((n,))\n",
    "    \n",
    "    # Generate samples\n",
    "    samples = np.random.multivariate_normal(mu, Sigma, size=(num_samples))\n",
    "       \n",
    "    return samples"
   ]
  },
  {
   "cell_type": "code",
   "execution_count": 6,
   "id": "75b484a6",
   "metadata": {},
   "outputs": [],
   "source": [
    "def simulate_supremum(cov_function, h, num_samples = 1000, grid_type=\"uniform\", n_cal=None, scores=None, W=None):\n",
    "    num_steps = int(np.ceil(1.0 / h))\n",
    "    grid = construct_grid(num_steps, grid_type)\n",
    "    \n",
    "    if scores is not None:\n",
    "        F_hat = compute_F_hat_scores(scores)\n",
    "\n",
    "        joint_F_hat_vals = compute_joint_F_hat(scores, grid)\n",
    "        print('Pre-evaluation of the joint ecdf completed.')\n",
    "        sys.stdout.flush()\n",
    "    else:\n",
    "        F_hat = None\n",
    "        joint_F_hat_vals = None\n",
    "\n",
    "    samples = simulate_gaussian_process(cov_function, grid, num_samples, n_cal, scores, W, F_hat, joint_F_hat_vals)\n",
    "    suprema = np.max(np.abs(samples),1)\n",
    "    \n",
    "    expected_supremum = np.mean(suprema)\n",
    "    return expected_supremum"
   ]
  },
  {
   "cell_type": "code",
   "execution_count": 7,
   "id": "5ed0919b",
   "metadata": {},
   "outputs": [],
   "source": [
    "@lru_cache(maxsize=None)\n",
    "def richardson_recursive(h, func, j, k):\n",
    "    \"\"\"Recursive function for Richardson extrapolation.\"\"\"\n",
    "    if j == 0:\n",
    "        return func(h)\n",
    "    if k == 0:\n",
    "        return func(h/np.power(2,j))\n",
    "    else:\n",
    "        R1 = richardson_recursive(h, func, j, k-1)\n",
    "        R2 = richardson_recursive(h, func, j-1, k-1)\n",
    "        return (np.power(2.0,k) * R1 - R2) / (np.power(2.0,k) - 1.0)\n",
    "    \n",
    "def richardson_extrapolation(h, func, max_j):\n",
    "    \"\"\"Perform Richardson extrapolation using recursion and memoization.\"\"\"\n",
    "    return richardson_recursive(h, func, max_j, max_j)\n"
   ]
  },
  {
   "attachments": {},
   "cell_type": "markdown",
   "id": "089ed7d4",
   "metadata": {},
   "source": [
    "## Experiment\n",
    "### 1. Brownian Bridge\n",
    "\n",
    "For the standard Brownian Bridge, the expected value of the supremum is known and is equal to\n",
    "\\begin{align*}\n",
    "\\mathbb{E}\\left[\\underset{t}{\\text{sup}} |B_F (t)| \\right] &= \\mathbb{E}\\left[\\underset{t}{\\text{sup}} |B_{U(0,1)} (t)| \\right]\\\\\n",
    "&= \\mathbb{E}\\left[\\underset{t}{\\text{sup}} |B(t)| \\right]\\\\\n",
    "&= \\sqrt{\\frac{\\pi}{2}} \\log 2.\n",
    "\\end{align*}\n",
    "\n",
    "In what follows, we study how the Richardon extrapolation method, combined with a Monte Carlo simulation of the empirical process evaluated on a grid of fixed thinness, allows to get a good approximation from below of the true expected value of the supremum of a standard Brownian bridge. In particular, we aim to investigate the optimal combination of grid thinness and order of the Richardson extrapolation method, which can be used in practice to estimate the expected value of the supremum of the empirical process considered in our work. This would lead to a novel and asymptotic finite sample correction which enters the adaptive conformal method discussed in our work."
   ]
  },
  {
   "cell_type": "code",
   "execution_count": 8,
   "id": "4d9cc179",
   "metadata": {},
   "outputs": [],
   "source": [
    "# Experiment parameters\n",
    "covariance_model = \"brownian_bridge\"\n",
    "\n",
    "# number of Monte Carlo iterations\n",
    "\"\"\"\n",
    "M = 1000000 con Tmax=800 è troppo alto, mi crasha tutto.\n",
    "Canceled future for execute_request message before replies were done\n",
    "The Kernel crashed while executing code in the the current cell or a previous cell. Please review the code in the cell(s)\n",
    "to identify a possible cause of the failure. Click here for more info. View Jupyter log for further details.\n",
    "\"\"\"\n",
    "M = 1000000\n",
    "\n",
    "# Grid parameters\n",
    "grid_type = 'uniform'\n",
    "#grid_type = 'centered'\n",
    "\n",
    "# Thinness of the considered grid\n",
    "T_values = np.array([100,200,400,800,1600])\n",
    "Tmax = T_values[-1]\n",
    "\n",
    "# Orders of the Richardson interpolation method\n",
    "r_order = np.array([1,2])\n",
    "\n",
    "# Define the covariance function\n",
    "cov_function = brownian_bridge_covariance\n"
   ]
  },
  {
   "cell_type": "code",
   "execution_count": 9,
   "id": "ac4433b0",
   "metadata": {},
   "outputs": [
    {
     "name": "stdout",
     "output_type": "stream",
     "text": [
      "Output file: results/brownian_bridge_M1000000_Tmax1600_seed20240809.\n",
      "100\n",
      "200\n",
      "400\n",
      "800\n",
      "1600\n"
     ]
    }
   ],
   "source": [
    "func = lambda h: simulate_supremum(cov_function, h=h, num_samples=M, grid_type=grid_type)\n",
    "\n",
    "seed = 20240809\n",
    "# Output file\n",
    "outfile_prefix = covariance_model + \"_M\" + str(M) + \"_Tmax\" + str(Tmax) + \"_seed\" + str(seed)\n",
    "print(\"Output file: {:s}.\".format(\"results/\"+outfile_prefix), end=\"\\n\")\n",
    "\n",
    "np.random.seed(seed)\n",
    "results = pd.DataFrame()\n",
    "for T in T_values:\n",
    "    estimate = func(1/T)\n",
    "    method = \"Standard\"\n",
    "    res = pd.DataFrame({'T':[T], 'Method':[method], 'estimate':[estimate]})\n",
    "    results = pd.concat([results,res])\n",
    "    if T < T_values[-2]:\n",
    "        for r in r_order:\n",
    "            estimate = richardson_extrapolation(1/T, func, r)\n",
    "            method = \"Richardson ({:d})\".format(r)\n",
    "            res = pd.DataFrame({'T':[T*np.power(2,r)], 'Method':[method], 'estimate':[estimate]})\n",
    "            results = pd.concat([results,res])\n",
    "    elif T==T_values[-2]:\n",
    "        r=1\n",
    "        estimate = richardson_extrapolation(1/T, func, r)\n",
    "        method = \"Richardson ({:d})\".format(r)\n",
    "        res = pd.DataFrame({'T':[T*np.power(2,r)], 'Method':[method], 'estimate':[estimate]})\n",
    "        results = pd.concat([results,res])\n",
    "    else:\n",
    "        pass  \n",
    "    \n",
    "    print(T)\n",
    "\n",
    "# Save results\n",
    "outfile = \"results/\" + outfile_prefix + \".txt\"\n",
    "results.to_csv(outfile, index=False, float_format=\"%.5f\")"
   ]
  },
  {
   "cell_type": "code",
   "execution_count": 10,
   "id": "a1783d5c",
   "metadata": {},
   "outputs": [
    {
     "data": {
      "image/png": "[encoded data removed]",
      "text/plain": [
       "<Figure size 600x300 with 1 Axes>"
      ]
     },
     "metadata": {},
     "output_type": "display_data"
    }
   ],
   "source": [
    "# Plot results\n",
    "M = 1000000\n",
    "seed = 20240809\n",
    "Tmax = 1600\n",
    "T_values = np.array([100,200,400,800,1600])\n",
    "outfile_prefix = covariance_model + \"_M\" + str(M) + \"_Tmax\" + str(Tmax) + \"_seed\" + str(seed)\n",
    "outfile = \"results/\" + outfile_prefix + \".txt\"\n",
    "results = pd.read_csv(outfile)\n",
    "# Output file\n",
    "outfile_prefix = covariance_model + \"_M\" + str(M) + \"_Tmax\" + str(Tmax) + \"_seed\" + str(seed)\n",
    "outfile_png = \"figures/\" + outfile_prefix + \".png\"\n",
    "target = np.sqrt(np.pi/2)*np.log(2)\n",
    "plt.figure(figsize=(6, 3))\n",
    "sns.scatterplot(data=results, x='T', y='estimate', hue='Method')\n",
    "sns.lineplot(data=results, x='T', y='estimate', hue='Method', errorbar=None)\n",
    "#plt.hlines(target, 0, np.max(T_values*np.power(2,np.max(r_order))), color=\"red\", label=\"Analytical\")\n",
    "plt.hlines(target, 0, np.max(T_values), color=\"red\", linestyle='--', label=\"Analytical\")\n",
    "plt.legend(bbox_to_anchor=(1.05, 0.5), loc='center left')\n",
    "plt.savefig(outfile_png, bbox_inches='tight')"
   ]
  },
  {
   "attachments": {},
   "cell_type": "markdown",
   "id": "9b181e59",
   "metadata": {},
   "source": [
    "#### Studying the variability of Richardson's extrapolation\n",
    "Here, we aim to create a plot which displays the variability of the estimates obtained with each method, as $M$ varies."
   ]
  },
  {
   "attachments": {},
   "cell_type": "markdown",
   "id": "1fe99a06",
   "metadata": {},
   "source": [
    "##### Tmax=800"
   ]
  },
  {
   "cell_type": "code",
   "execution_count": 11,
   "id": "7195ece3",
   "metadata": {},
   "outputs": [],
   "source": [
    "# Fixed parameters of the experiment\n",
    "# Experiment parameters\n",
    "covariance_model = \"brownian_bridge\"\n",
    "\n",
    "# Grid parameters\n",
    "grid_type = 'uniform'\n",
    "\n",
    "# Thinness of the considered grid\n",
    "T = 200\n",
    "\n",
    "# Orders of the Richardson interpolation method\n",
    "r_order = np.array([1,2])\n",
    "\n",
    "# Define the covariance function\n",
    "cov_function = brownian_bridge_covariance\n",
    "B = 20\n",
    "\n",
    "M_vals = [1000, 5000, 10000, 50000]\n",
    "#M_vals = [100, 500]\n",
    "seed = 0"
   ]
  },
  {
   "cell_type": "code",
   "execution_count": 12,
   "id": "44d2bae7",
   "metadata": {},
   "outputs": [
    {
     "name": "stdout",
     "output_type": "stream",
     "text": [
      "Output file: results/brownian_bridge_Tmax800_varyingM_seed0.\n"
     ]
    },
    {
     "name": "stderr",
     "output_type": "stream",
     "text": [
      "/var/folders/wx/7r3x1_l13dsfx_jds0xhf1f00000gn/T/ipykernel_10598/938498176.py:18: RuntimeWarning: covariance is not positive-semidefinite.\n",
      "  samples = np.random.multivariate_normal(mu, Sigma, size=(num_samples))\n"
     ]
    },
    {
     "name": "stdout",
     "output_type": "stream",
     "text": [
      "1000\n",
      "5000\n",
      "10000\n",
      "50000\n"
     ]
    }
   ],
   "source": [
    "# Output file\n",
    "outfile_prefix = covariance_model + \"_Tmax\" + str(4*T) + \"_varyingM\"\n",
    "outfile_prefix += \"_seed\" + str(seed)\n",
    "print(\"Output file: {:s}.\".format(\"results/\" + outfile_prefix), end=\"\\n\")\n",
    "\n",
    "np.random.seed(seed)\n",
    "results = pd.DataFrame()\n",
    "for M in M_vals:\n",
    "\n",
    "    for b in range(B):\n",
    "        # Define Monte Carlo simulation\n",
    "        func = lambda h: simulate_supremum(cov_function, h=h, num_samples=M, grid_type=grid_type)\n",
    "\n",
    "        # Standard\n",
    "        estimate = func(1/(4*T))\n",
    "        method = \"Standard\"\n",
    "        res = pd.DataFrame({'T':[4*T], 'Method':[method], 'estimate':[estimate], 'b':[b], 'M':[M]})\n",
    "        results = pd.concat([results,res])\n",
    "\n",
    "        # Richardson 1\n",
    "        r=1\n",
    "        estimate = richardson_extrapolation(1/(2*T), func, r)\n",
    "        method = \"Richardson ({:d})\".format(r)\n",
    "        res = pd.DataFrame({'T':[(2*T)*np.power(2,r)], 'Method':[method], 'estimate':[estimate], 'b':[b], 'M':[M]})\n",
    "        results = pd.concat([results,res])\n",
    "\n",
    "        # Richardson 2\n",
    "        r=2\n",
    "        estimate = richardson_extrapolation(1/T, func, r)\n",
    "        method = \"Richardson ({:d})\".format(r)\n",
    "        res = pd.DataFrame({'T':[T*np.power(2,r)], 'Method':[method], 'estimate':[estimate], 'b':[b], 'M':[M]})\n",
    "        results = pd.concat([results,res])\n",
    "    \n",
    "    print(M)\n",
    "\n",
    "# Save results\n",
    "outfile = \"results/\" + outfile_prefix + \".txt\"\n",
    "results.to_csv(outfile, index=False, float_format=\"%.5f\")\n"
   ]
  },
  {
   "cell_type": "code",
   "execution_count": 13,
   "id": "e52082f0",
   "metadata": {},
   "outputs": [],
   "source": [
    "# Load the results for the plot\n",
    "# Reload results and redo figures if needed\n",
    "seed = 0\n",
    "T = 200\n",
    "covariance_model = \"brownian_bridge\"\n",
    "outfile_prefix = covariance_model + \"_Tmax\" + str(4*T) + \"_varyingM\"\n",
    "outfile_prefix += \"_seed\" + str(seed)\n",
    "outfile = \"results/\" + outfile_prefix + \".txt\"\n",
    "results = pd.read_csv(outfile)"
   ]
  },
  {
   "cell_type": "code",
   "execution_count": 14,
   "id": "cc4246f0",
   "metadata": {},
   "outputs": [
    {
     "data": {
      "image/png": "[encoded data removed]",
      "text/plain": [
       "<Figure size 1000x600 with 1 Axes>"
      ]
     },
     "metadata": {},
     "output_type": "display_data"
    }
   ],
   "source": [
    "outfile_png = \"figures/\" + outfile_prefix + \".png\"\n",
    "\n",
    "# Plot of the results\n",
    "# Calculate the statistics\n",
    "aggregated_data = results.groupby(['M', 'Method']).agg(\n",
    "    mean_estimate=('estimate', 'mean'),\n",
    "    quantile_25=('estimate', lambda x: x.quantile(0.25)),\n",
    "    quantile_75=('estimate', lambda x: x.quantile(0.75))\n",
    ").reset_index()\n",
    "\n",
    "# Define the offset amount and line width\n",
    "offset_amount = 0.05\n",
    "line_width = 2.5\n",
    "\n",
    "# Preparing the plot\n",
    "plt.figure(figsize=(10, 6))\n",
    "methods = results['Method'].unique()\n",
    "colors = plt.cm.viridis(np.linspace(0, 1, len(methods)))\n",
    "\n",
    "for i, method in enumerate(methods):\n",
    "    method_data = aggregated_data[aggregated_data['Method'] == method]\n",
    "    # Applying the offset\n",
    "    plt.plot(method_data['M'] * (1 + i * offset_amount), method_data['mean_estimate'], 'o', color=colors[i], label=method, markersize=8)\n",
    "    plt.vlines(method_data['M'] * (1 + i * offset_amount), method_data['quantile_25'], method_data['quantile_75'], color=colors[i], linewidth=line_width)\n",
    "\n",
    "# Set x-axis to logarithmic scale\n",
    "plt.xscale('log')\n",
    "\n",
    "# Set the original M values as tick labels\n",
    "plt.xticks(aggregated_data['M'].unique(), labels=aggregated_data['M'].unique())\n",
    "\n",
    "# Adding labels and title\n",
    "plt.xlabel('M')\n",
    "plt.ylabel('Estimate')\n",
    "plt.title('Variability of the estimate obtained when Tmax=800')\n",
    "\n",
    "# Moving the legend outside the plot, to the right, and centered vertically\n",
    "plt.legend(title=\"Method\", loc='center left', bbox_to_anchor=(1, 0.5))\n",
    "plt.grid(True)\n",
    "plt.tight_layout()\n",
    "\n",
    "plt.savefig(outfile_png, bbox_inches='tight')"
   ]
  },
  {
   "attachments": {},
   "cell_type": "markdown",
   "id": "fa5b8e39",
   "metadata": {},
   "source": [
    "##### Tmax=1600"
   ]
  },
  {
   "cell_type": "code",
   "execution_count": 16,
   "id": "87912a0e",
   "metadata": {},
   "outputs": [],
   "source": [
    "# Fixed parameters of the experiment\n",
    "# Experiment parameters\n",
    "covariance_model = \"brownian_bridge\"\n",
    "\n",
    "# Grid parameters\n",
    "grid_type = 'uniform'\n",
    "\n",
    "# Thinness of the considered grid\n",
    "T = 400\n",
    "\n",
    "# Orders of the Richardson interpolation method\n",
    "r_order = np.array([1,2])\n",
    "\n",
    "# Define the covariance function\n",
    "cov_function = brownian_bridge_covariance"
   ]
  },
  {
   "cell_type": "code",
   "execution_count": 17,
   "id": "98e575ac",
   "metadata": {},
   "outputs": [
    {
     "name": "stdout",
     "output_type": "stream",
     "text": [
      "Output file: results/brownian_bridge_Tmax1600_varyingM_seed0.\n"
     ]
    },
    {
     "ename": "KeyboardInterrupt",
     "evalue": "",
     "output_type": "error",
     "traceback": [
      "\u001b[0;31m---------------------------------------------------------------------------\u001b[0m",
      "\u001b[0;31mKeyboardInterrupt\u001b[0m                         Traceback (most recent call last)",
      "Cell \u001b[0;32mIn[17], line 27\u001b[0m\n\u001b[1;32m     25\u001b[0m \u001b[39m# Richardson 1\u001b[39;00m\n\u001b[1;32m     26\u001b[0m r\u001b[39m=\u001b[39m\u001b[39m1\u001b[39m\n\u001b[0;32m---> 27\u001b[0m estimate \u001b[39m=\u001b[39m richardson_extrapolation(\u001b[39m1\u001b[39;49m\u001b[39m/\u001b[39;49m(\u001b[39m2\u001b[39;49m\u001b[39m*\u001b[39;49mT), func, r)\n\u001b[1;32m     28\u001b[0m method \u001b[39m=\u001b[39m \u001b[39m\"\u001b[39m\u001b[39mRichardson (\u001b[39m\u001b[39m{:d}\u001b[39;00m\u001b[39m)\u001b[39m\u001b[39m\"\u001b[39m\u001b[39m.\u001b[39mformat(r)\n\u001b[1;32m     29\u001b[0m res \u001b[39m=\u001b[39m pd\u001b[39m.\u001b[39mDataFrame({\u001b[39m'\u001b[39m\u001b[39mT\u001b[39m\u001b[39m'\u001b[39m:[(\u001b[39m2\u001b[39m\u001b[39m*\u001b[39mT)\u001b[39m*\u001b[39mnp\u001b[39m.\u001b[39mpower(\u001b[39m2\u001b[39m,r)], \u001b[39m'\u001b[39m\u001b[39mMethod\u001b[39m\u001b[39m'\u001b[39m:[method], \u001b[39m'\u001b[39m\u001b[39mestimate\u001b[39m\u001b[39m'\u001b[39m:[estimate], \u001b[39m'\u001b[39m\u001b[39mb\u001b[39m\u001b[39m'\u001b[39m:[b], \u001b[39m'\u001b[39m\u001b[39mM\u001b[39m\u001b[39m'\u001b[39m:[M]})\n",
      "Cell \u001b[0;32mIn[7], line 15\u001b[0m, in \u001b[0;36mrichardson_extrapolation\u001b[0;34m(h, func, max_j)\u001b[0m\n\u001b[1;32m     13\u001b[0m \u001b[39mdef\u001b[39;00m \u001b[39mrichardson_extrapolation\u001b[39m(h, func, max_j):\n\u001b[1;32m     14\u001b[0m \u001b[39m    \u001b[39m\u001b[39m\"\"\"Perform Richardson extrapolation using recursion and memoization.\"\"\"\u001b[39;00m\n\u001b[0;32m---> 15\u001b[0m     \u001b[39mreturn\u001b[39;00m richardson_recursive(h, func, max_j, max_j)\n",
      "Cell \u001b[0;32mIn[7], line 9\u001b[0m, in \u001b[0;36mrichardson_recursive\u001b[0;34m(h, func, j, k)\u001b[0m\n\u001b[1;32m      7\u001b[0m     \u001b[39mreturn\u001b[39;00m func(h\u001b[39m/\u001b[39mnp\u001b[39m.\u001b[39mpower(\u001b[39m2\u001b[39m,j))\n\u001b[1;32m      8\u001b[0m \u001b[39melse\u001b[39;00m:\n\u001b[0;32m----> 9\u001b[0m     R1 \u001b[39m=\u001b[39m richardson_recursive(h, func, j, k\u001b[39m-\u001b[39;49m\u001b[39m1\u001b[39;49m)\n\u001b[1;32m     10\u001b[0m     R2 \u001b[39m=\u001b[39m richardson_recursive(h, func, j\u001b[39m-\u001b[39m\u001b[39m1\u001b[39m, k\u001b[39m-\u001b[39m\u001b[39m1\u001b[39m)\n\u001b[1;32m     11\u001b[0m     \u001b[39mreturn\u001b[39;00m (np\u001b[39m.\u001b[39mpower(\u001b[39m2.0\u001b[39m,k) \u001b[39m*\u001b[39m R1 \u001b[39m-\u001b[39m R2) \u001b[39m/\u001b[39m (np\u001b[39m.\u001b[39mpower(\u001b[39m2.0\u001b[39m,k) \u001b[39m-\u001b[39m \u001b[39m1.0\u001b[39m)\n",
      "Cell \u001b[0;32mIn[7], line 7\u001b[0m, in \u001b[0;36mrichardson_recursive\u001b[0;34m(h, func, j, k)\u001b[0m\n\u001b[1;32m      5\u001b[0m     \u001b[39mreturn\u001b[39;00m func(h)\n\u001b[1;32m      6\u001b[0m \u001b[39mif\u001b[39;00m k \u001b[39m==\u001b[39m \u001b[39m0\u001b[39m:\n\u001b[0;32m----> 7\u001b[0m     \u001b[39mreturn\u001b[39;00m func(h\u001b[39m/\u001b[39;49mnp\u001b[39m.\u001b[39;49mpower(\u001b[39m2\u001b[39;49m,j))\n\u001b[1;32m      8\u001b[0m \u001b[39melse\u001b[39;00m:\n\u001b[1;32m      9\u001b[0m     R1 \u001b[39m=\u001b[39m richardson_recursive(h, func, j, k\u001b[39m-\u001b[39m\u001b[39m1\u001b[39m)\n",
      "Cell \u001b[0;32mIn[17], line 17\u001b[0m, in \u001b[0;36m<lambda>\u001b[0;34m(h)\u001b[0m\n\u001b[1;32m     13\u001b[0m \u001b[39mfor\u001b[39;00m M \u001b[39min\u001b[39;00m M_vals:\n\u001b[1;32m     15\u001b[0m     \u001b[39mfor\u001b[39;00m b \u001b[39min\u001b[39;00m \u001b[39mrange\u001b[39m(B):\n\u001b[1;32m     16\u001b[0m         \u001b[39m# Define Monte Carlo simulation\u001b[39;00m\n\u001b[0;32m---> 17\u001b[0m         func \u001b[39m=\u001b[39m \u001b[39mlambda\u001b[39;00m h: simulate_supremum(cov_function, h\u001b[39m=\u001b[39;49mh, num_samples\u001b[39m=\u001b[39;49mM, grid_type\u001b[39m=\u001b[39;49mgrid_type)\n\u001b[1;32m     19\u001b[0m         \u001b[39m# Standard\u001b[39;00m\n\u001b[1;32m     20\u001b[0m         estimate \u001b[39m=\u001b[39m func(\u001b[39m1\u001b[39m\u001b[39m/\u001b[39m(\u001b[39m4\u001b[39m\u001b[39m*\u001b[39mT))\n",
      "Cell \u001b[0;32mIn[6], line 15\u001b[0m, in \u001b[0;36msimulate_supremum\u001b[0;34m(cov_function, h, num_samples, grid_type, n_cal, scores, W)\u001b[0m\n\u001b[1;32m     12\u001b[0m     F_hat \u001b[39m=\u001b[39m \u001b[39mNone\u001b[39;00m\n\u001b[1;32m     13\u001b[0m     joint_F_hat_vals \u001b[39m=\u001b[39m \u001b[39mNone\u001b[39;00m\n\u001b[0;32m---> 15\u001b[0m samples \u001b[39m=\u001b[39m simulate_gaussian_process(cov_function, grid, num_samples, n_cal, scores, W, F_hat, joint_F_hat_vals)\n\u001b[1;32m     16\u001b[0m suprema \u001b[39m=\u001b[39m np\u001b[39m.\u001b[39mmax(np\u001b[39m.\u001b[39mabs(samples),\u001b[39m1\u001b[39m)\n\u001b[1;32m     18\u001b[0m expected_supremum \u001b[39m=\u001b[39m np\u001b[39m.\u001b[39mmean(suprema)\n",
      "Cell \u001b[0;32mIn[5], line 18\u001b[0m, in \u001b[0;36msimulate_gaussian_process\u001b[0;34m(cov_function, grid, num_samples, n_cal, scores, W, F_hat, joint_F_hat_vals)\u001b[0m\n\u001b[1;32m     15\u001b[0m mu \u001b[39m=\u001b[39m np\u001b[39m.\u001b[39mzeros((n,))\n\u001b[1;32m     17\u001b[0m \u001b[39m# Generate samples\u001b[39;00m\n\u001b[0;32m---> 18\u001b[0m samples \u001b[39m=\u001b[39m np\u001b[39m.\u001b[39;49mrandom\u001b[39m.\u001b[39;49mmultivariate_normal(mu, Sigma, size\u001b[39m=\u001b[39;49m(num_samples))\n\u001b[1;32m     20\u001b[0m \u001b[39mreturn\u001b[39;00m samples\n",
      "File \u001b[0;32mmtrand.pyx:4155\u001b[0m, in \u001b[0;36mnumpy.random.mtrand.RandomState.multivariate_normal\u001b[0;34m()\u001b[0m\n",
      "File \u001b[0;32m<__array_function__ internals>:180\u001b[0m, in \u001b[0;36msvd\u001b[0;34m(*args, **kwargs)\u001b[0m\n",
      "File \u001b[0;32m~/Library/Python/3.9/lib/python/site-packages/numpy/linalg/linalg.py:1657\u001b[0m, in \u001b[0;36msvd\u001b[0;34m(a, full_matrices, compute_uv, hermitian)\u001b[0m\n\u001b[1;32m   1654\u001b[0m         gufunc \u001b[39m=\u001b[39m _umath_linalg\u001b[39m.\u001b[39msvd_n_s\n\u001b[1;32m   1656\u001b[0m signature \u001b[39m=\u001b[39m \u001b[39m'\u001b[39m\u001b[39mD->DdD\u001b[39m\u001b[39m'\u001b[39m \u001b[39mif\u001b[39;00m isComplexType(t) \u001b[39melse\u001b[39;00m \u001b[39m'\u001b[39m\u001b[39md->ddd\u001b[39m\u001b[39m'\u001b[39m\n\u001b[0;32m-> 1657\u001b[0m u, s, vh \u001b[39m=\u001b[39m gufunc(a, signature\u001b[39m=\u001b[39;49msignature, extobj\u001b[39m=\u001b[39;49mextobj)\n\u001b[1;32m   1658\u001b[0m u \u001b[39m=\u001b[39m u\u001b[39m.\u001b[39mastype(result_t, copy\u001b[39m=\u001b[39m\u001b[39mFalse\u001b[39;00m)\n\u001b[1;32m   1659\u001b[0m s \u001b[39m=\u001b[39m s\u001b[39m.\u001b[39mastype(_realType(result_t), copy\u001b[39m=\u001b[39m\u001b[39mFalse\u001b[39;00m)\n",
      "\u001b[0;31mKeyboardInterrupt\u001b[0m: "
     ]
    }
   ],
   "source": [
    "B = 20\n",
    "\n",
    "M_vals = [1000, 5000, 10000, 50000]\n",
    "seed = 0\n",
    "\n",
    "# Output file\n",
    "outfile_prefix = covariance_model + \"_Tmax\" + str(4*T) + \"_varyingM\"\n",
    "outfile_prefix += \"_seed\" + str(seed)\n",
    "print(\"Output file: {:s}.\".format(\"results/\" + outfile_prefix), end=\"\\n\")\n",
    "\n",
    "np.random.seed(seed)\n",
    "results = pd.DataFrame()\n",
    "for M in M_vals:\n",
    "\n",
    "    for b in range(B):\n",
    "        # Define Monte Carlo simulation\n",
    "        func = lambda h: simulate_supremum(cov_function, h=h, num_samples=M, grid_type=grid_type)\n",
    "\n",
    "        # Standard\n",
    "        estimate = func(1/(4*T))\n",
    "        method = \"Standard\"\n",
    "        res = pd.DataFrame({'T':[4*T], 'Method':[method], 'estimate':[estimate], 'b':[b], 'M':[M]})\n",
    "        results = pd.concat([results,res])\n",
    "\n",
    "        # Richardson 1\n",
    "        r=1\n",
    "        estimate = richardson_extrapolation(1/(2*T), func, r)\n",
    "        method = \"Richardson ({:d})\".format(r)\n",
    "        res = pd.DataFrame({'T':[(2*T)*np.power(2,r)], 'Method':[method], 'estimate':[estimate], 'b':[b], 'M':[M]})\n",
    "        results = pd.concat([results,res])\n",
    "\n",
    "        # Richardson 2\n",
    "        r=2\n",
    "        estimate = richardson_extrapolation(1/T, func, r)\n",
    "        method = \"Richardson ({:d})\".format(r)\n",
    "        res = pd.DataFrame({'T':[T*np.power(2,r)], 'Method':[method], 'estimate':[estimate], 'b':[b], 'M':[M]})\n",
    "        results = pd.concat([results,res])\n",
    "    \n",
    "    print(M)\n",
    "\n",
    "    \n",
    "\n",
    "# Save results\n",
    "outfile = \"results/\" + outfile_prefix + \".txt\"\n",
    "results.to_csv(outfile, index=False, float_format=\"%.5f\")"
   ]
  },
  {
   "cell_type": "code",
   "execution_count": 18,
   "id": "1e3c42a0",
   "metadata": {},
   "outputs": [],
   "source": [
    "# Load the results for the plot\n",
    "# Reload results and redo figures if needed\n",
    "seed = 0\n",
    "T = 400\n",
    "covariance_model = \"brownian_bridge\"\n",
    "outfile_prefix = covariance_model + \"_Tmax\" + str(4*T) + \"_varyingM\"\n",
    "outfile_prefix += \"_seed\" + str(seed)\n",
    "outfile = \"results/\" + outfile_prefix + \".txt\"\n",
    "results = pd.read_csv(outfile)\n",
    "\n",
    "outfile_png = \"figures/\" + outfile_prefix + \".png\""
   ]
  },
  {
   "cell_type": "code",
   "execution_count": 31,
   "id": "e4705501",
   "metadata": {},
   "outputs": [
    {
     "data": {
      "image/png": "[encoded data removed]",
      "text/plain": [
       "<Figure size 700x300 with 1 Axes>"
      ]
     },
     "metadata": {},
     "output_type": "display_data"
    }
   ],
   "source": [
    "# Plot of the results\n",
    "# Calculate the statistics\n",
    "aggregated_data = results.groupby(['M', 'Method']).agg(\n",
    "    mean_estimate=('estimate', 'mean'),\n",
    "    quantile_25=('estimate', lambda x: x.quantile(0.25)),\n",
    "    quantile_75=('estimate', lambda x: x.quantile(0.75))\n",
    ").reset_index()\n",
    "\n",
    "# Define the offset amount and line width\n",
    "offset_amount = 0.08\n",
    "line_width = 2.5\n",
    "\n",
    "# Preparing the plot\n",
    "plt.figure(figsize=(7, 3))\n",
    "methods = results['Method'].unique()\n",
    "#colors = plt.cm.viridis(np.linspace(0, 1, len(methods)))\n",
    "colors = ['#1f77b4', '#ff7f0e', '#2ca02c']\n",
    "\n",
    "for i, method in enumerate(methods):\n",
    "    method_data = aggregated_data[aggregated_data['Method'] == method]\n",
    "    # Applying the offset\n",
    "    offset = (i - (len(methods) - 1) / 2) * offset_amount\n",
    "    plt.plot(method_data['M'] * (1 + offset), method_data['mean_estimate'], 'o', color=colors[i], label=method, markersize=8)\n",
    "    plt.vlines(method_data['M'] * (1 + offset), method_data['quantile_25'], method_data['quantile_75'], color=colors[i], linewidth=line_width)\n",
    "\n",
    "# Set x-axis to logarithmic scale\n",
    "plt.xscale('log')\n",
    "\n",
    "# Set the original M values as tick labels\n",
    "plt.xticks(aggregated_data['M'].unique(), labels=aggregated_data['M'].unique())\n",
    "\n",
    "# Adding labels and title\n",
    "plt.xlabel('M')\n",
    "plt.ylabel('Estimate')\n",
    "#plt.title('Variability of the estimates')\n",
    "\n",
    "# Moving the legend outside the plot, to the right, and centered vertically\n",
    "plt.legend(title=\"Method\", loc='center left', bbox_to_anchor=(1, 0.5))\n",
    "plt.grid(True)\n",
    "plt.tight_layout()\n",
    "\n",
    "plt.savefig(outfile_png, bbox_inches='tight')"
   ]
  },
  {
   "cell_type": "code",
   "execution_count": 41,
   "id": "935fed06",
   "metadata": {},
   "outputs": [],
   "source": [
    "# Reload results and redo figures if needed\n",
    "M = 1000000\n",
    "seed = 0\n",
    "Tmax = 1600\n",
    "T_values = np.array([100,200,400,800,1600])\n",
    "outfile_prefix = covariance_model + \"_M\" + str(M) + \"_Tmax\" + str(Tmax) + \"_seed\" + str(seed)\n",
    "outfile = \"results/\" + outfile_prefix + \".txt\"\n",
    "results = pd.read_csv(outfile)\n",
    "\n",
    "outfile_png = \"figures/\" + outfile_prefix + \".png\"\n",
    "target = np.sqrt(np.pi/2)*np.log(2)\n",
    "# Plot results\n",
    "sns.scatterplot(data=results, x='T', y='estimate', hue='Method')\n",
    "sns.lineplot(data=results, x='T', y='estimate', hue='Method', errorbar=None)\n",
    "#plt.hlines(target, 0, np.max(T_values*np.power(2,np.max(r_order))), color=\"red\", label=\"Estimated target\")\n",
    "plt.hlines(target, 0, np.max(T_values), color=\"red\", label=\"Estimated target\")\n",
    "plt.legend(bbox_to_anchor=(1.05, 1), loc='upper left')\n",
    "plt.savefig(outfile_png, bbox_inches='tight')"
   ]
  }
 ],
 "metadata": {
  "kernelspec": {
   "display_name": "Python 3 (ipykernel)",
   "language": "python",
   "name": "python3"
  },
  "language_info": {
   "codemirror_mode": {
    "name": "ipython",
    "version": 3
   },
   "file_extension": ".py",
   "mimetype": "text/x-python",
   "name": "python",
   "nbconvert_exporter": "python",
   "pygments_lexer": "ipython3",
   "version": "3.9.6"
  }
 },
 "nbformat": 4,
 "nbformat_minor": 5
}
